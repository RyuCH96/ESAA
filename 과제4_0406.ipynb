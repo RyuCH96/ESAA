{
 "cells": [
  {
   "cell_type": "markdown",
   "metadata": {},
   "source": [
    "# 과제4 : 파이썬 기초(4)\n",
    "## 예외처리/내장함수/외장함수\n",
    "### 제출기한 : 9월 30일 월요일 18:59까지"
   ]
  },
  {
   "cell_type": "markdown",
   "metadata": {},
   "source": [
    "### 1. 예외처리"
   ]
  },
  {
   "cell_type": "markdown",
   "metadata": {},
   "source": [
    "다음 빈칸을 채워서 소스 코드를 완성하세요. \n",
    "\n",
    "maria.txt 파일이 있으면 파일의 내용을 읽어서 출력하고, 파일이 없으면 '파일이 없습니다.'를 출력하도록 만드세요. 파일이 없을 때 발생하는 예외는 FileNotFoundError입니다."
   ]
  },
  {
   "cell_type": "markdown",
   "metadata": {},
   "source": [
    "①  ___________   \n",
    "\n",
    "    file = open('maria.txt', 'r')\n",
    "    \n",
    "②  __________________________   \n",
    "\n",
    "    print('파일이 없습니다.')\n",
    "    \n",
    "③  ______   \n",
    "\n",
    "    s = file.read()\n",
    "    \n",
    "    file.close()"
   ]
  },
  {
   "cell_type": "code",
   "execution_count": 1,
   "metadata": {},
   "outputs": [
    {
     "name": "stdout",
     "output_type": "stream",
     "text": [
      "파일이 없습니다.\n"
     ]
    }
   ],
   "source": [
    "try:\n",
    "    file = open('maria.txt','r')\n",
    "except FileNotFoundError:\n",
    "    print(\"파일이 없습니다.\")\n",
    "else:\n",
    "    s = file.read()\n",
    "    file.close()"
   ]
  },
  {
   "cell_type": "markdown",
   "metadata": {},
   "source": [
    "### 2. 에러발생시켜보기"
   ]
  },
  {
   "cell_type": "markdown",
   "metadata": {},
   "source": [
    "allowed = ['가위','바위','보'] 리스트에 없는 값을 rsp 함수에 입력했을 때 에러를 발생시키고 적당한 문구를 표시해라"
   ]
  },
  {
   "cell_type": "code",
   "execution_count": 2,
   "metadata": {},
   "outputs": [],
   "source": [
    "def rsp(mine,your):\n",
    "    allowed = ['가위','바위','보']\n",
    "    if mine not in allowed:\n",
    "        raise ValueError\n",
    "    if your not in allowed:\n",
    "        raise ValueError\n",
    "    if (mine== '가위' and your == '바위') | (mine == '바위' and your=='보') | (mine=='보' and your == '가위'):\n",
    "        print(\"상대방이 이겼습니다.\")\n",
    "    if  (mine== '가위' and your == '보') | (mine == '바위' and your=='가위') | (mine=='보' and your == '바위'):\n",
    "        print(\"내가 이겼습니다.\")\n",
    "    if (mine== '가위' and your == '가위') | (mine == '바위' and your=='바위') | (mine=='보' and your == '보'):\n",
    "        print(\"비겼습니다.\")\n",
    "#함수를 완성시켜 보세요"
   ]
  },
  {
   "cell_type": "code",
   "execution_count": 15,
   "metadata": {},
   "outputs": [
    {
     "name": "stdout",
     "output_type": "stream",
     "text": [
      "잘못된 값을 입력했습니다.\n"
     ]
    }
   ],
   "source": [
    "try:\n",
    "    rsp('가위','바')\n",
    "except ValueError:\n",
    "    print(\"잘못된 값을 입력했습니다.\")\n",
    "#예외처리를 해보세요"
   ]
  },
  {
   "cell_type": "markdown",
   "metadata": {},
   "source": [
    "### 4. enumerate와 for문을 이용해 다음 리스트의 홀수 번째 요소만 출력하라."
   ]
  },
  {
   "cell_type": "code",
   "execution_count": 3,
   "metadata": {},
   "outputs": [],
   "source": [
    "ice_cream = ['빠삐코','더위사냥','비비빅','죠스바','누가바']"
   ]
  },
  {
   "cell_type": "code",
   "execution_count": 4,
   "metadata": {},
   "outputs": [
    {
     "name": "stdout",
     "output_type": "stream",
     "text": [
      "빠삐코\n",
      "비비빅\n",
      "누가바\n"
     ]
    }
   ],
   "source": [
    "for i, name in enumerate(ice_cream):\n",
    "    if i%2 ==0:\n",
    "        print(ice_cream[i])\n",
    "        i+=1"
   ]
  },
  {
   "cell_type": "code",
   "execution_count": 2,
   "metadata": {},
   "outputs": [
    {
     "name": "stdout",
     "output_type": "stream",
     "text": [
      "빠삐코\n",
      "비비빅\n",
      "누가바\n"
     ]
    }
   ],
   "source": [
    "실행 예"
   ]
  },
  {
   "cell_type": "markdown",
   "metadata": {},
   "source": [
    "### 5. filter와 lambda를 사용하여 다음 리스트의 요솟값 중 100이하의 수만 가지는 리스트를 만들어라."
   ]
  },
  {
   "cell_type": "code",
   "execution_count": 6,
   "metadata": {},
   "outputs": [],
   "source": [
    "my_list = [93,20,1004,94,104,12]"
   ]
  },
  {
   "cell_type": "code",
   "execution_count": 7,
   "metadata": {},
   "outputs": [
    {
     "data": {
      "text/plain": [
       "[93, 20, 94, 12]"
      ]
     },
     "execution_count": 7,
     "metadata": {},
     "output_type": "execute_result"
    }
   ],
   "source": [
    "list(filter(lambda x: x<=100, my_list))"
   ]
  },
  {
   "cell_type": "code",
   "execution_count": 5,
   "metadata": {},
   "outputs": [
    {
     "data": {
      "text/plain": [
       "[93, 20, 94, 12]"
      ]
     },
     "execution_count": 5,
     "metadata": {},
     "output_type": "execute_result"
    }
   ],
   "source": [
    "실행 예"
   ]
  },
  {
   "cell_type": "markdown",
   "metadata": {},
   "source": [
    "### 6. map과 lambda를 사용하여 [-23,13,-199,-29] 리스트의 각 요솟값의 절댓값을 가지는 리스트를 만들어라."
   ]
  },
  {
   "cell_type": "code",
   "execution_count": 81,
   "metadata": {},
   "outputs": [
    {
     "data": {
      "text/plain": [
       "[23, 13, 199, 29]"
      ]
     },
     "execution_count": 81,
     "metadata": {},
     "output_type": "execute_result"
    }
   ],
   "source": [
    "실행 예"
   ]
  },
  {
   "cell_type": "code",
   "execution_count": 8,
   "metadata": {},
   "outputs": [
    {
     "data": {
      "text/plain": [
       "[23, 13, 199, 29]"
      ]
     },
     "execution_count": 8,
     "metadata": {},
     "output_type": "execute_result"
    }
   ],
   "source": [
    "list2 = [-23,13,-199,-29]\n",
    "\n",
    "def abs_value(x):\n",
    "    return abs(x)\n",
    "\n",
    "list(map(abs_value,list2))"
   ]
  },
  {
   "cell_type": "markdown",
   "metadata": {},
   "source": [
    "### 7. 다음과 같은 리스트가 있다. 이 리스트의 개수, 평균, 표준편차, 편차의 평균, 최솟값, 최댓값, 중간값을 구해라."
   ]
  },
  {
   "cell_type": "code",
   "execution_count": 9,
   "metadata": {},
   "outputs": [],
   "source": [
    "my_data=[29,102,38,132,235,23,7,41,31,52,29]"
   ]
  },
  {
   "cell_type": "code",
   "execution_count": 10,
   "metadata": {},
   "outputs": [
    {
     "name": "stdout",
     "output_type": "stream",
     "text": [
      "데이터의 수 : 11\n",
      "평균 : 65.36\n",
      "표준편차 : 64.04\n",
      "편차의 평균 : 49.61983471074381\n",
      "최솟값 : 7\n",
      "최댓값 : 235\n",
      "중간값 : 38\n"
     ]
    }
   ],
   "source": [
    "import math as m\n",
    "\n",
    "n = len(my_data)\n",
    "mean = sum(my_data)/n\n",
    "\n",
    "\n",
    "def sd(my_data):\n",
    "    total = 0\n",
    "    for nbr in my_data:\n",
    "        total += (nbr-mean)**2\n",
    "    result = total/n\n",
    "    return m.sqrt(result)\n",
    "\n",
    "def sd_mean(my_data):\n",
    "    total = 0\n",
    "    for nbr in my_data:\n",
    "        total += abs((nbr-mean))\n",
    "    result = total/n\n",
    "    return result\n",
    "\n",
    "my_datas = sorted(my_data)\n",
    "if n%2 == 0:\n",
    "    med= (my_datas[n/2]+ my_datas[(n/2)-1])/2\n",
    "else:\n",
    "    med= (my_datas[int(n/2)])\n",
    "\n",
    "    \n",
    "    \n",
    "    \n",
    "\n",
    "print(\"데이터의 수 : \"+str(n))\n",
    "print(\"평균 : \"+ str(round((mean),2)))\n",
    "print(\"표준편차 : \"+ str(round(sd(my_data),2)))\n",
    "print(\"편차의 평균 : \"+ str(sd_mean(my_data)))\n",
    "print(\"최솟값 : \"+ str(min(my_data)))\n",
    "print(\"최댓값 : \"+ str(max(my_data)))\n",
    "print(\"중간값 : \"+ str(med))"
   ]
  },
  {
   "cell_type": "code",
   "execution_count": 11,
   "metadata": {},
   "outputs": [
    {
     "name": "stdout",
     "output_type": "stream",
     "text": [
      "데이터의 수 : 11\n",
      "평균 : 65.36\n",
      "표준편차 : 64.04\n",
      "편차의 평균 : 49.61983471074381\n",
      "최솟값 : 7\n",
      "최댓값 : 235\n",
      "중간값 : 38\n"
     ]
    }
   ],
   "source": [
    "실행 예"
   ]
  },
  {
   "cell_type": "markdown",
   "metadata": {},
   "source": [
    "### 8. 현재 디렉터리 위치를 출력한 후, 바탕화면으로 디렉터리 위치를 변경하라."
   ]
  },
  {
   "cell_type": "code",
   "execution_count": 11,
   "metadata": {},
   "outputs": [
    {
     "data": {
      "text/plain": [
       "'C:\\\\Users\\\\Chaehyun\\\\OneDrive\\\\Math'"
      ]
     },
     "execution_count": 11,
     "metadata": {},
     "output_type": "execute_result"
    }
   ],
   "source": [
    "import os\n",
    "os.getcwd()"
   ]
  },
  {
   "cell_type": "code",
   "execution_count": 12,
   "metadata": {},
   "outputs": [],
   "source": [
    "os.chdir(\"C:/Users/Chaehyun/Desktop\")"
   ]
  },
  {
   "cell_type": "markdown",
   "metadata": {},
   "source": [
    "### 9. 바탕화면에 있는 파일 중 확장자가 csv인 파일을 모두 찾아서 출력하라."
   ]
  },
  {
   "cell_type": "code",
   "execution_count": 13,
   "metadata": {},
   "outputs": [
    {
     "data": {
      "text/plain": [
       "[]"
      ]
     },
     "execution_count": 13,
     "metadata": {},
     "output_type": "execute_result"
    }
   ],
   "source": [
    "import glob\n",
    "glob.glob(\"C:/Users/Chaehyun/Desktop\")\n",
    "glob.glob(\"./*.csv\")"
   ]
  },
  {
   "cell_type": "markdown",
   "metadata": {},
   "source": [
    "### 10. 다음과 같은 리스트가 있다. 이 리스트 중 랜덤으로 30개를 test_set에, 나머지 70개를 train_set에 리스트 형태로 넣어라."
   ]
  },
  {
   "cell_type": "code",
   "execution_count": 15,
   "metadata": {
    "scrolled": true
   },
   "outputs": [
    {
     "name": "stdout",
     "output_type": "stream",
     "text": [
      "[0, 1, 2, 3, 4, 5, 6, 7, 8, 9, 10, 11, 12, 13, 14, 15, 16, 17, 18, 19, 20, 21, 22, 23, 24, 25, 26, 27, 28, 29, 30, 31, 32, 33, 34, 35, 36, 37, 38, 39, 40, 41, 42, 43, 44, 45, 46, 47, 48, 49, 50, 51, 52, 53, 54, 55, 56, 57, 58, 59, 60, 61, 62, 63, 64, 65, 66, 67, 68, 69, 70, 71, 72, 73, 74, 75, 76, 77, 78, 79, 80, 81, 82, 83, 84, 85, 86, 87, 88, 89, 90, 91, 92, 93, 94, 95, 96, 97, 98, 99]\n"
     ]
    }
   ],
   "source": [
    "my_set = list(range(100))\n",
    "print(my_set)"
   ]
  },
  {
   "cell_type": "code",
   "execution_count": 16,
   "metadata": {},
   "outputs": [
    {
     "name": "stdout",
     "output_type": "stream",
     "text": [
      "train_set : [16, 1, 29, 84, 46, 53, 17, 3, 23, 56, 37, 20, 38, 94, 41, 13, 86, 9, 87, 54, 59, 33, 14, 31, 19, 42, 72, 39, 8, 70, 76, 58, 11, 4, 93, 34, 80, 95, 75, 65, 96, 18, 66, 98, 89, 0, 24, 68, 78, 82, 67, 22, 61, 44, 90, 47, 63, 50, 92, 45, 97, 2, 43, 21, 85, 81, 71, 83, 26, 10]\n",
      "test_set : [69, 36, 88, 57, 60, 52, 5, 91, 77, 12, 6, 27, 28, 35, 30, 73, 49, 51, 32, 99, 15, 25, 74, 79, 64, 55, 62, 7, 48, 40]\n"
     ]
    }
   ],
   "source": [
    "import random\n",
    "random.shuffle(my_set)\n",
    "train_set = list(my_set[:70])\n",
    "test_set = list(my_set[70:])\n",
    "\n",
    "print(\"train_set : \"+str(train_set))\n",
    "print(\"test_set : \"+str(test_set))"
   ]
  },
  {
   "cell_type": "code",
   "execution_count": 39,
   "metadata": {},
   "outputs": [
    {
     "name": "stdout",
     "output_type": "stream",
     "text": [
      "train_set : [25, 41, 15, 51, 66, 98, 50, 6, 4, 78, 36, 97, 93, 11, 81, 64, 55, 24, 80, 87, 32, 53, 23, 3, 18, 34, 91, 22, 8, 46, 44, 59, 28, 21, 74, 5, 70, 39, 14, 35, 1, 90, 13, 10, 30, 58, 85, 71, 38, 52, 88, 48, 9, 73, 72, 7, 29, 2, 33, 94, 84, 40, 67, 89, 57, 42, 31, 17, 0]\n",
      "test_set : [49, 69, 68, 62, 61, 77, 47, 99, 63, 26, 86, 27, 95, 16, 37, 96, 20, 60, 43, 12, 92, 76, 75, 79, 56, 19, 54, 82, 65, 83]\n"
     ]
    }
   ],
   "source": [
    "실행 예"
   ]
  }
 ],
 "metadata": {
  "kernelspec": {
   "display_name": "Python 3",
   "language": "python",
   "name": "python3"
  },
  "language_info": {
   "codemirror_mode": {
    "name": "ipython",
    "version": 3
   },
   "file_extension": ".py",
   "mimetype": "text/x-python",
   "name": "python",
   "nbconvert_exporter": "python",
   "pygments_lexer": "ipython3",
   "version": "3.7.6"
  }
 },
 "nbformat": 4,
 "nbformat_minor": 2
}
